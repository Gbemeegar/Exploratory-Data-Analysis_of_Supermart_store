{
 "cells": [
  {
   "cell_type": "markdown",
   "id": "63865b58",
   "metadata": {},
   "source": [
    "## About Dataset\n",
    "The dataset has data on orders placed by customers on a grocery delivery application.\n",
    "The dataset is designed with an assumption that the orders are placed by customers living in the state of Tamil Nadu, India."
   ]
  },
  {
   "cell_type": "markdown",
   "id": "cb64a233",
   "metadata": {},
   "source": [
    "# Objectives\n",
    "\n",
    "The objectives of the project is to:\n",
    "\n",
    "Perform exploratory data analysis to discover any insights and patterns\n",
    "\n",
    "Find out if there are any products that are performing above/below or above average\n",
    "\n",
    "The main parts of this project consists of:\n",
    "\n",
    "Data pre-processing steps\n",
    "\n",
    "Exploratory data analysis"
   ]
  },
  {
   "cell_type": "markdown",
   "id": "45074494",
   "metadata": {},
   "source": [
    "### Importing Modules\n",
    "Importing the necessary modules for exploratory data analysis and visualization"
   ]
  },
  {
   "cell_type": "code",
   "execution_count": 126,
   "id": "fc1e94ac",
   "metadata": {},
   "outputs": [],
   "source": [
    "import pandas as pd\n",
    "import numpy as np\n",
    "import seaborn as sns\n",
    "import matplotlib.pyplot as plt\n",
    "from datetime import datetime\n",
    "import calendar"
   ]
  },
  {
   "cell_type": "markdown",
   "id": "1ef9d60f",
   "metadata": {},
   "source": [
    "### Importing the data\n",
    "Here, i imported the data using the pandas module and created a copy called \"supermart\" which will be used for the analysis"
   ]
  },
  {
   "cell_type": "code",
   "execution_count": 127,
   "id": "bc5ca57d",
   "metadata": {},
   "outputs": [
    {
     "data": {
      "text/html": [
       "<div>\n",
       "<style scoped>\n",
       "    .dataframe tbody tr th:only-of-type {\n",
       "        vertical-align: middle;\n",
       "    }\n",
       "\n",
       "    .dataframe tbody tr th {\n",
       "        vertical-align: top;\n",
       "    }\n",
       "\n",
       "    .dataframe thead th {\n",
       "        text-align: right;\n",
       "    }\n",
       "</style>\n",
       "<table border=\"1\" class=\"dataframe\">\n",
       "  <thead>\n",
       "    <tr style=\"text-align: right;\">\n",
       "      <th></th>\n",
       "      <th>Order ID</th>\n",
       "      <th>Customer Name</th>\n",
       "      <th>Category</th>\n",
       "      <th>Sub Category</th>\n",
       "      <th>City</th>\n",
       "      <th>Order Date</th>\n",
       "      <th>Region</th>\n",
       "      <th>Sales</th>\n",
       "      <th>Discount</th>\n",
       "      <th>Profit</th>\n",
       "      <th>State</th>\n",
       "    </tr>\n",
       "  </thead>\n",
       "  <tbody>\n",
       "    <tr>\n",
       "      <th>0</th>\n",
       "      <td>OD1</td>\n",
       "      <td>Harish</td>\n",
       "      <td>Oil &amp; Masala</td>\n",
       "      <td>Masalas</td>\n",
       "      <td>Vellore</td>\n",
       "      <td>11-08-2017</td>\n",
       "      <td>North</td>\n",
       "      <td>1254</td>\n",
       "      <td>0.12</td>\n",
       "      <td>401.28</td>\n",
       "      <td>Tamil Nadu</td>\n",
       "    </tr>\n",
       "    <tr>\n",
       "      <th>1</th>\n",
       "      <td>OD2</td>\n",
       "      <td>Sudha</td>\n",
       "      <td>Beverages</td>\n",
       "      <td>Health Drinks</td>\n",
       "      <td>Krishnagiri</td>\n",
       "      <td>11-08-2017</td>\n",
       "      <td>South</td>\n",
       "      <td>749</td>\n",
       "      <td>0.18</td>\n",
       "      <td>149.80</td>\n",
       "      <td>Tamil Nadu</td>\n",
       "    </tr>\n",
       "    <tr>\n",
       "      <th>2</th>\n",
       "      <td>OD3</td>\n",
       "      <td>Hussain</td>\n",
       "      <td>Food Grains</td>\n",
       "      <td>Atta &amp; Flour</td>\n",
       "      <td>Perambalur</td>\n",
       "      <td>06-12-2017</td>\n",
       "      <td>West</td>\n",
       "      <td>2360</td>\n",
       "      <td>0.21</td>\n",
       "      <td>165.20</td>\n",
       "      <td>Tamil Nadu</td>\n",
       "    </tr>\n",
       "    <tr>\n",
       "      <th>3</th>\n",
       "      <td>OD4</td>\n",
       "      <td>Jackson</td>\n",
       "      <td>Fruits &amp; Veggies</td>\n",
       "      <td>Fresh Vegetables</td>\n",
       "      <td>Dharmapuri</td>\n",
       "      <td>10-11-2016</td>\n",
       "      <td>South</td>\n",
       "      <td>896</td>\n",
       "      <td>0.25</td>\n",
       "      <td>89.60</td>\n",
       "      <td>Tamil Nadu</td>\n",
       "    </tr>\n",
       "    <tr>\n",
       "      <th>4</th>\n",
       "      <td>OD5</td>\n",
       "      <td>Ridhesh</td>\n",
       "      <td>Food Grains</td>\n",
       "      <td>Organic Staples</td>\n",
       "      <td>Ooty</td>\n",
       "      <td>10-11-2016</td>\n",
       "      <td>South</td>\n",
       "      <td>2355</td>\n",
       "      <td>0.26</td>\n",
       "      <td>918.45</td>\n",
       "      <td>Tamil Nadu</td>\n",
       "    </tr>\n",
       "  </tbody>\n",
       "</table>\n",
       "</div>"
      ],
      "text/plain": [
       "  Order ID Customer Name          Category      Sub Category         City  \\\n",
       "0      OD1        Harish      Oil & Masala           Masalas      Vellore   \n",
       "1      OD2         Sudha         Beverages     Health Drinks  Krishnagiri   \n",
       "2      OD3       Hussain       Food Grains      Atta & Flour   Perambalur   \n",
       "3      OD4       Jackson  Fruits & Veggies  Fresh Vegetables   Dharmapuri   \n",
       "4      OD5       Ridhesh       Food Grains   Organic Staples         Ooty   \n",
       "\n",
       "   Order Date Region  Sales  Discount  Profit       State  \n",
       "0  11-08-2017  North   1254      0.12  401.28  Tamil Nadu  \n",
       "1  11-08-2017  South    749      0.18  149.80  Tamil Nadu  \n",
       "2  06-12-2017   West   2360      0.21  165.20  Tamil Nadu  \n",
       "3  10-11-2016  South    896      0.25   89.60  Tamil Nadu  \n",
       "4  10-11-2016  South   2355      0.26  918.45  Tamil Nadu  "
      ]
     },
     "execution_count": 127,
     "metadata": {},
     "output_type": "execute_result"
    }
   ],
   "source": [
    "data=pd.read_csv(r\"C:\\Users\\gbeme\\Desktop\\Works\\Supermart-Grocery-Sales\\Supermart-Grocery-Sales.csv\")\n",
    "supermart=data.copy()\n",
    "supermart.head()"
   ]
  },
  {
   "cell_type": "markdown",
   "id": "bacc802c",
   "metadata": {},
   "source": [
    "# Data Cleaning and Manipulation\n",
    "I checked various information about the data to know if some data manipulation needs to be carried out on the data.\n",
    "\n",
    "There are a few things that needs to be checked and done before the analysis can proceed.\n",
    "\n",
    "Renaming columns to eliminate empty space in between column names\n",
    "\n",
    "Validating that columns have the appropriate data type\n",
    "\n",
    "Check and remove N/A values or duplicated values if any\n",
    "\n",
    "Check for anomalies in categorical and numerical columns (typo errors, values that don't make sense, etc.)"
   ]
  },
  {
   "cell_type": "code",
   "execution_count": 128,
   "id": "5b5d75f0",
   "metadata": {},
   "outputs": [],
   "source": [
    "rename_dict = {'Order ID':'order_id',\n",
    "               'Customer Name':'customer_name',\n",
    "               'Category':'category',\n",
    "               'Sub Category':'sub_category',\n",
    "               'City':'city',\n",
    "               'Order Date':'order_date',\n",
    "               'Region':'region',\n",
    "               'Sales':'sale_price',\n",
    "               'Discount':'discount',\n",
    "               'Profit':'profit',\n",
    "               'State':'state'}\n",
    "\n",
    "supermart = supermart.rename(columns=rename_dict)"
   ]
  },
  {
   "cell_type": "code",
   "execution_count": 129,
   "id": "d3fcb991",
   "metadata": {},
   "outputs": [
    {
     "data": {
      "text/plain": [
       "(9994, 11)"
      ]
     },
     "execution_count": 129,
     "metadata": {},
     "output_type": "execute_result"
    }
   ],
   "source": [
    "supermart.shape"
   ]
  },
  {
   "cell_type": "markdown",
   "id": "fed30656",
   "metadata": {},
   "source": [
    "The data has 9,994 rows and 11 columns"
   ]
  },
  {
   "cell_type": "markdown",
   "id": "d9b2cbfe",
   "metadata": {},
   "source": [
    "##### checking for negative values"
   ]
  },
  {
   "cell_type": "code",
   "execution_count": 130,
   "id": "8f61b044",
   "metadata": {},
   "outputs": [
    {
     "data": {
      "text/plain": [
       "order_id         0\n",
       "customer_name    0\n",
       "category         0\n",
       "sub_category     0\n",
       "city             0\n",
       "order_date       0\n",
       "region           0\n",
       "sale_price       0\n",
       "discount         0\n",
       "profit           0\n",
       "state            0\n",
       "dtype: int64"
      ]
     },
     "execution_count": 130,
     "metadata": {},
     "output_type": "execute_result"
    }
   ],
   "source": [
    "supermart.isnull().sum()"
   ]
  },
  {
   "cell_type": "markdown",
   "id": "c63eba5d",
   "metadata": {},
   "source": [
    "##### checking for negative values"
   ]
  },
  {
   "cell_type": "code",
   "execution_count": 131,
   "id": "618cecdb",
   "metadata": {},
   "outputs": [
    {
     "data": {
      "text/plain": [
       "sale_price    0\n",
       "discount      0\n",
       "profit        0\n",
       "dtype: int64"
      ]
     },
     "execution_count": 131,
     "metadata": {},
     "output_type": "execute_result"
    }
   ],
   "source": [
    "(supermart._get_numeric_data() < 0).sum()"
   ]
  },
  {
   "cell_type": "markdown",
   "id": "8b0a1fb1",
   "metadata": {},
   "source": [
    "##### checking for duplicated rows in the data"
   ]
  },
  {
   "cell_type": "code",
   "execution_count": 132,
   "id": "ee41c325",
   "metadata": {},
   "outputs": [
    {
     "data": {
      "text/plain": [
       "0"
      ]
     },
     "execution_count": 132,
     "metadata": {},
     "output_type": "execute_result"
    }
   ],
   "source": [
    "supermart.duplicated().sum()"
   ]
  },
  {
   "cell_type": "markdown",
   "id": "d06ba5b0",
   "metadata": {},
   "source": [
    "##### checking colums data types and general information"
   ]
  },
  {
   "cell_type": "code",
   "execution_count": 133,
   "id": "9022b9e0",
   "metadata": {},
   "outputs": [
    {
     "name": "stdout",
     "output_type": "stream",
     "text": [
      "<class 'pandas.core.frame.DataFrame'>\n",
      "RangeIndex: 9994 entries, 0 to 9993\n",
      "Data columns (total 11 columns):\n",
      " #   Column         Non-Null Count  Dtype  \n",
      "---  ------         --------------  -----  \n",
      " 0   order_id       9994 non-null   object \n",
      " 1   customer_name  9994 non-null   object \n",
      " 2   category       9994 non-null   object \n",
      " 3   sub_category   9994 non-null   object \n",
      " 4   city           9994 non-null   object \n",
      " 5   order_date     9994 non-null   object \n",
      " 6   region         9994 non-null   object \n",
      " 7   sale_price     9994 non-null   int64  \n",
      " 8   discount       9994 non-null   float64\n",
      " 9   profit         9994 non-null   float64\n",
      " 10  state          9994 non-null   object \n",
      "dtypes: float64(2), int64(1), object(8)\n",
      "memory usage: 859.0+ KB\n"
     ]
    }
   ],
   "source": [
    "supermart.info()"
   ]
  },
  {
   "cell_type": "markdown",
   "id": "2ee5247d",
   "metadata": {},
   "source": [
    "From the information displayed, i noticed that the \"Order Date\" column is in the wrong Dtype, this needs to be corrected"
   ]
  },
  {
   "cell_type": "markdown",
   "id": "0cd3eee9",
   "metadata": {},
   "source": [
    "#### Changing the Order Date column to datetime Dtype"
   ]
  },
  {
   "cell_type": "code",
   "execution_count": 134,
   "id": "e448edb4",
   "metadata": {},
   "outputs": [],
   "source": [
    "supermart['order_date']= pd.to_datetime(supermart['order_date'])"
   ]
  },
  {
   "cell_type": "markdown",
   "id": "46b1119b",
   "metadata": {},
   "source": [
    "#### Creating extra columns \n",
    "I created the month_name and year columns from the Order Date column inorder to enable analysis on those columns"
   ]
  },
  {
   "cell_type": "code",
   "execution_count": 135,
   "id": "df5f30d8",
   "metadata": {},
   "outputs": [
    {
     "data": {
      "text/html": [
       "<div>\n",
       "<style scoped>\n",
       "    .dataframe tbody tr th:only-of-type {\n",
       "        vertical-align: middle;\n",
       "    }\n",
       "\n",
       "    .dataframe tbody tr th {\n",
       "        vertical-align: top;\n",
       "    }\n",
       "\n",
       "    .dataframe thead th {\n",
       "        text-align: right;\n",
       "    }\n",
       "</style>\n",
       "<table border=\"1\" class=\"dataframe\">\n",
       "  <thead>\n",
       "    <tr style=\"text-align: right;\">\n",
       "      <th></th>\n",
       "      <th>order_id</th>\n",
       "      <th>customer_name</th>\n",
       "      <th>category</th>\n",
       "      <th>sub_category</th>\n",
       "      <th>city</th>\n",
       "      <th>order_date</th>\n",
       "      <th>region</th>\n",
       "      <th>sale_price</th>\n",
       "      <th>discount</th>\n",
       "      <th>profit</th>\n",
       "      <th>state</th>\n",
       "      <th>month_name</th>\n",
       "      <th>month</th>\n",
       "      <th>year</th>\n",
       "    </tr>\n",
       "  </thead>\n",
       "  <tbody>\n",
       "    <tr>\n",
       "      <th>0</th>\n",
       "      <td>OD1</td>\n",
       "      <td>Harish</td>\n",
       "      <td>Oil &amp; Masala</td>\n",
       "      <td>Masalas</td>\n",
       "      <td>Vellore</td>\n",
       "      <td>2017-11-08</td>\n",
       "      <td>North</td>\n",
       "      <td>1254</td>\n",
       "      <td>0.12</td>\n",
       "      <td>401.28</td>\n",
       "      <td>Tamil Nadu</td>\n",
       "      <td>Nov</td>\n",
       "      <td>11</td>\n",
       "      <td>2017</td>\n",
       "    </tr>\n",
       "    <tr>\n",
       "      <th>1</th>\n",
       "      <td>OD2</td>\n",
       "      <td>Sudha</td>\n",
       "      <td>Beverages</td>\n",
       "      <td>Health Drinks</td>\n",
       "      <td>Krishnagiri</td>\n",
       "      <td>2017-11-08</td>\n",
       "      <td>South</td>\n",
       "      <td>749</td>\n",
       "      <td>0.18</td>\n",
       "      <td>149.80</td>\n",
       "      <td>Tamil Nadu</td>\n",
       "      <td>Nov</td>\n",
       "      <td>11</td>\n",
       "      <td>2017</td>\n",
       "    </tr>\n",
       "  </tbody>\n",
       "</table>\n",
       "</div>"
      ],
      "text/plain": [
       "  order_id customer_name      category   sub_category         city order_date  \\\n",
       "0      OD1        Harish  Oil & Masala        Masalas      Vellore 2017-11-08   \n",
       "1      OD2         Sudha     Beverages  Health Drinks  Krishnagiri 2017-11-08   \n",
       "\n",
       "  region  sale_price  discount  profit       state month_name  month  year  \n",
       "0  North        1254      0.12  401.28  Tamil Nadu        Nov     11  2017  \n",
       "1  South         749      0.18  149.80  Tamil Nadu        Nov     11  2017  "
      ]
     },
     "execution_count": 135,
     "metadata": {},
     "output_type": "execute_result"
    }
   ],
   "source": [
    "# i used a for loop to create the month_name column\n",
    "supermart['month_name'] = [calendar.month_abbr[num] for num in supermart['order_date'].dt.month]\n",
    "#0r (if full name is wanted)\n",
    "#data['Month_name']=data['Order Date'].dt.month_name()\n",
    "\n",
    "supermart['month']=supermart['order_date'].dt.month\n",
    "supermart['year']=supermart['order_date'].dt.year\n",
    "supermart.head(2)"
   ]
  },
  {
   "cell_type": "markdown",
   "id": "cef001e0",
   "metadata": {},
   "source": [
    "#### Created a function to count the number of unique items in each column"
   ]
  },
  {
   "cell_type": "code",
   "execution_count": 136,
   "id": "89883864",
   "metadata": {},
   "outputs": [
    {
     "name": "stdout",
     "output_type": "stream",
     "text": [
      "There are 9994 order_id\n",
      "There are 50 customer_name\n",
      "There are 7 category\n",
      "There are 23 sub_category\n",
      "There are 24 city\n",
      "There are 5 region\n",
      "There are 1 state\n",
      "There are 12 month_name\n"
     ]
    }
   ],
   "source": [
    "def nuniques(x):\n",
    "    \"\"\" this function counts the number of unique values in each non-numeric column of the n\\ dataframe and prints the colunms names and the counts\"\"\"\n",
    "    for col in x.select_dtypes(include=object).columns:\n",
    "        print(f'There are {x[col].nunique()} {col}')\n",
    "nuniques(supermart)"
   ]
  },
  {
   "cell_type": "code",
   "execution_count": 137,
   "id": "0d7372a7",
   "metadata": {},
   "outputs": [
    {
     "data": {
      "text/plain": [
       "array([2017, 2016, 2015, 2018], dtype=int64)"
      ]
     },
     "execution_count": 137,
     "metadata": {},
     "output_type": "execute_result"
    }
   ],
   "source": [
    "supermart.year.unique()"
   ]
  },
  {
   "cell_type": "code",
   "execution_count": 138,
   "id": "d442f85d",
   "metadata": {},
   "outputs": [
    {
     "data": {
      "text/plain": [
       "sale_price    14956982.00\n",
       "profit         3747121.20\n",
       "discount          2266.81\n",
       "dtype: float64"
      ]
     },
     "execution_count": 138,
     "metadata": {},
     "output_type": "execute_result"
    }
   ],
   "source": [
    "supermart[['sale_price','profit','discount']].sum()"
   ]
  },
  {
   "cell_type": "code",
   "execution_count": 139,
   "id": "a501d0e8",
   "metadata": {},
   "outputs": [
    {
     "data": {
      "text/plain": [
       "West       3203\n",
       "East       2848\n",
       "Central    2323\n",
       "South      1619\n",
       "North         1\n",
       "Name: region, dtype: int64"
      ]
     },
     "execution_count": 139,
     "metadata": {},
     "output_type": "execute_result"
    }
   ],
   "source": [
    "supermart['region'].value_counts()"
   ]
  },
  {
   "cell_type": "markdown",
   "id": "39e441e9",
   "metadata": {},
   "source": [
    "There is only one entry for the North region, this is probably a mistake, so it will be dropped"
   ]
  },
  {
   "cell_type": "code",
   "execution_count": 140,
   "id": "4fdbf3c3",
   "metadata": {},
   "outputs": [
    {
     "data": {
      "text/plain": [
       "West       3203\n",
       "East       2848\n",
       "Central    2323\n",
       "South      1619\n",
       "Name: region, dtype: int64"
      ]
     },
     "execution_count": 140,
     "metadata": {},
     "output_type": "execute_result"
    }
   ],
   "source": [
    "supermart.drop(supermart[supermart.region=='North'].index, inplace=True)\n",
    "supermart['region'].value_counts()"
   ]
  },
  {
   "cell_type": "markdown",
   "id": "8eb9d20c",
   "metadata": {},
   "source": [
    "## Observations from the data\n",
    "A total of 9994 orders was recorded\n",
    "\n",
    "There are a total of 50 Customers\n",
    "\n",
    "All the data is gather from only one state (Tamil Nadu)\n",
    "\n",
    "There are 7 categories of products which is sub divided into 24 sub categories\n",
    "\n",
    "A total of 24 cities are represented in the data\n",
    "\n",
    "The data consist of records covering sales of 4 years (2015 - 2018)\n",
    "\n",
    "The total Sales over the 4 year period is $14,956,982.00$\n",
    "\n",
    "The total Profit gained over the 4 year period is $3,747,121.20$\n",
    "\n",
    "The total Discount given over the 4 year period is $2266.81$"
   ]
  },
  {
   "cell_type": "markdown",
   "id": "813bf976",
   "metadata": {},
   "source": [
    "# Questions from the data"
   ]
  },
  {
   "cell_type": "markdown",
   "id": "babe2424",
   "metadata": {},
   "source": [
    "##### Top 5 Customers?\n",
    "The top 5 customers is calculated by the total sales to the customers arranged in decending order"
   ]
  },
  {
   "cell_type": "code",
   "execution_count": 141,
   "id": "836a27c6",
   "metadata": {},
   "outputs": [
    {
     "data": {
      "text/html": [
       "<div>\n",
       "<style scoped>\n",
       "    .dataframe tbody tr th:only-of-type {\n",
       "        vertical-align: middle;\n",
       "    }\n",
       "\n",
       "    .dataframe tbody tr th {\n",
       "        vertical-align: top;\n",
       "    }\n",
       "\n",
       "    .dataframe thead th {\n",
       "        text-align: right;\n",
       "    }\n",
       "</style>\n",
       "<table border=\"1\" class=\"dataframe\">\n",
       "  <thead>\n",
       "    <tr style=\"text-align: right;\">\n",
       "      <th></th>\n",
       "      <th>sale_price</th>\n",
       "    </tr>\n",
       "    <tr>\n",
       "      <th>customer_name</th>\n",
       "      <th></th>\n",
       "    </tr>\n",
       "  </thead>\n",
       "  <tbody>\n",
       "    <tr>\n",
       "      <th>Krithika</th>\n",
       "      <td>334361</td>\n",
       "    </tr>\n",
       "    <tr>\n",
       "      <th>Amrish</th>\n",
       "      <td>333351</td>\n",
       "    </tr>\n",
       "    <tr>\n",
       "      <th>Verma</th>\n",
       "      <td>331665</td>\n",
       "    </tr>\n",
       "    <tr>\n",
       "      <th>Arutra</th>\n",
       "      <td>325720</td>\n",
       "    </tr>\n",
       "    <tr>\n",
       "      <th>Vidya</th>\n",
       "      <td>321798</td>\n",
       "    </tr>\n",
       "  </tbody>\n",
       "</table>\n",
       "</div>"
      ],
      "text/plain": [
       "               sale_price\n",
       "customer_name            \n",
       "Krithika           334361\n",
       "Amrish             333351\n",
       "Verma              331665\n",
       "Arutra             325720\n",
       "Vidya              321798"
      ]
     },
     "execution_count": 141,
     "metadata": {},
     "output_type": "execute_result"
    }
   ],
   "source": [
    "Cus_sales=supermart.groupby('customer_name')[['sale_price']].sum()\n",
    "Cus_sales.sort_values('sale_price',ascending= False)[:5]"
   ]
  },
  {
   "cell_type": "code",
   "execution_count": 142,
   "id": "b7a4a7d6",
   "metadata": {},
   "outputs": [
    {
     "data": {
      "text/plain": [
       "<Figure size 864x576 with 0 Axes>"
      ]
     },
     "metadata": {},
     "output_type": "display_data"
    },
    {
     "data": {
      "image/png": "[encoded data removed]",
      "text/plain": [
       "<Figure size 432x288 with 1 Axes>"
      ]
     },
     "metadata": {
      "needs_background": "light"
     },
     "output_type": "display_data"
    }
   ],
   "source": [
    "# ploting a bar chart to show the Top 5 Customers table\n",
    "plt.figure(figsize = (12, 8))\n",
    "Cus_sales.sort_values('sale_price',ascending= False)[:5].plot( kind = 'line', color =\"blue\", marker ='*',markersize = 10,markerfacecolor='red',linewidth =3, ylabel = \"Total Amount Purchased\", title = \"top 5 customers by sales\");"
   ]
  },
  {
   "cell_type": "markdown",
   "id": "a1498c69",
   "metadata": {},
   "source": [
    "Krithika made the highest total purchase"
   ]
  },
  {
   "cell_type": "markdown",
   "id": "e1afc308",
   "metadata": {},
   "source": [
    "##### Which customer received the most discount?"
   ]
  },
  {
   "cell_type": "code",
   "execution_count": 143,
   "id": "4abc0d7c",
   "metadata": {},
   "outputs": [
    {
     "data": {
      "text/html": [
       "<div>\n",
       "<style scoped>\n",
       "    .dataframe tbody tr th:only-of-type {\n",
       "        vertical-align: middle;\n",
       "    }\n",
       "\n",
       "    .dataframe tbody tr th {\n",
       "        vertical-align: top;\n",
       "    }\n",
       "\n",
       "    .dataframe thead th {\n",
       "        text-align: right;\n",
       "    }\n",
       "</style>\n",
       "<table border=\"1\" class=\"dataframe\">\n",
       "  <thead>\n",
       "    <tr style=\"text-align: right;\">\n",
       "      <th></th>\n",
       "      <th>discount</th>\n",
       "    </tr>\n",
       "    <tr>\n",
       "      <th>customer_name</th>\n",
       "      <th></th>\n",
       "    </tr>\n",
       "  </thead>\n",
       "  <tbody>\n",
       "    <tr>\n",
       "      <th>Verma</th>\n",
       "      <td>52.16</td>\n",
       "    </tr>\n",
       "    <tr>\n",
       "      <th>Amrish</th>\n",
       "      <td>51.37</td>\n",
       "    </tr>\n",
       "    <tr>\n",
       "      <th>Shah</th>\n",
       "      <td>49.59</td>\n",
       "    </tr>\n",
       "    <tr>\n",
       "      <th>Krithika</th>\n",
       "      <td>48.64</td>\n",
       "    </tr>\n",
       "    <tr>\n",
       "      <th>Arutra</th>\n",
       "      <td>48.43</td>\n",
       "    </tr>\n",
       "  </tbody>\n",
       "</table>\n",
       "</div>"
      ],
      "text/plain": [
       "               discount\n",
       "customer_name          \n",
       "Verma             52.16\n",
       "Amrish            51.37\n",
       "Shah              49.59\n",
       "Krithika          48.64\n",
       "Arutra            48.43"
      ]
     },
     "execution_count": 143,
     "metadata": {},
     "output_type": "execute_result"
    }
   ],
   "source": [
    "Cus_dis = supermart.groupby('customer_name')[['discount']].sum()\n",
    "Cus_dis.sort_values('discount',ascending= False)[:5]"
   ]
  },
  {
   "cell_type": "markdown",
   "id": "528763ef",
   "metadata": {},
   "source": [
    "Verma received the most discount"
   ]
  },
  {
   "cell_type": "markdown",
   "id": "a6c36580",
   "metadata": {},
   "source": [
    "##### Which category of product is best performing?"
   ]
  },
  {
   "cell_type": "code",
   "execution_count": 144,
   "id": "6b4a9199",
   "metadata": {},
   "outputs": [
    {
     "data": {
      "text/html": [
       "<div>\n",
       "<style scoped>\n",
       "    .dataframe tbody tr th:only-of-type {\n",
       "        vertical-align: middle;\n",
       "    }\n",
       "\n",
       "    .dataframe tbody tr th {\n",
       "        vertical-align: top;\n",
       "    }\n",
       "\n",
       "    .dataframe thead th {\n",
       "        text-align: right;\n",
       "    }\n",
       "</style>\n",
       "<table border=\"1\" class=\"dataframe\">\n",
       "  <thead>\n",
       "    <tr style=\"text-align: right;\">\n",
       "      <th></th>\n",
       "      <th>order_id</th>\n",
       "      <th>profit</th>\n",
       "      <th>sale_price</th>\n",
       "    </tr>\n",
       "    <tr>\n",
       "      <th>category</th>\n",
       "      <th></th>\n",
       "      <th></th>\n",
       "      <th></th>\n",
       "    </tr>\n",
       "  </thead>\n",
       "  <tbody>\n",
       "    <tr>\n",
       "      <th>Snacks</th>\n",
       "      <td>1514</td>\n",
       "      <td>568178.85</td>\n",
       "      <td>2237546</td>\n",
       "    </tr>\n",
       "    <tr>\n",
       "      <th>Eggs, Meat &amp; Fish</th>\n",
       "      <td>1490</td>\n",
       "      <td>567357.22</td>\n",
       "      <td>2267401</td>\n",
       "    </tr>\n",
       "    <tr>\n",
       "      <th>Fruits &amp; Veggies</th>\n",
       "      <td>1418</td>\n",
       "      <td>530400.38</td>\n",
       "      <td>2100727</td>\n",
       "    </tr>\n",
       "    <tr>\n",
       "      <th>Bakery</th>\n",
       "      <td>1413</td>\n",
       "      <td>528521.06</td>\n",
       "      <td>2112281</td>\n",
       "    </tr>\n",
       "    <tr>\n",
       "      <th>Beverages</th>\n",
       "      <td>1400</td>\n",
       "      <td>525605.76</td>\n",
       "      <td>2085313</td>\n",
       "    </tr>\n",
       "    <tr>\n",
       "      <th>Food Grains</th>\n",
       "      <td>1398</td>\n",
       "      <td>529162.64</td>\n",
       "      <td>2115272</td>\n",
       "    </tr>\n",
       "    <tr>\n",
       "      <th>Oil &amp; Masala</th>\n",
       "      <td>1360</td>\n",
       "      <td>497494.01</td>\n",
       "      <td>2037188</td>\n",
       "    </tr>\n",
       "  </tbody>\n",
       "</table>\n",
       "</div>"
      ],
      "text/plain": [
       "                   order_id     profit  sale_price\n",
       "category                                          \n",
       "Snacks                 1514  568178.85     2237546\n",
       "Eggs, Meat & Fish      1490  567357.22     2267401\n",
       "Fruits & Veggies       1418  530400.38     2100727\n",
       "Bakery                 1413  528521.06     2112281\n",
       "Beverages              1400  525605.76     2085313\n",
       "Food Grains            1398  529162.64     2115272\n",
       "Oil & Masala           1360  497494.01     2037188"
      ]
     },
     "execution_count": 144,
     "metadata": {},
     "output_type": "execute_result"
    }
   ],
   "source": [
    "prod_perf=pd.pivot_table(supermart, index='category', values=['order_id','profit','sale_price'], aggfunc={'order_id':'count','profit':'sum','sale_price':'sum'})\n",
    "prod_perf.sort_values('order_id',ascending=False)"
   ]
  },
  {
   "cell_type": "code",
   "execution_count": 145,
   "id": "7b6b5afd",
   "metadata": {},
   "outputs": [
    {
     "data": {
      "text/plain": [
       "<AxesSubplot:xlabel='category'>"
      ]
     },
     "execution_count": 145,
     "metadata": {},
     "output_type": "execute_result"
    },
    {
     "data": {
      "image/png": "[encoded data removed]",
      "text/plain": [
       "<Figure size 720x288 with 1 Axes>"
      ]
     },
     "metadata": {
      "needs_background": "light"
     },
     "output_type": "display_data"
    }
   ],
   "source": [
    "#plot of a multiple bar chart to show the total profit and sales\n",
    "prod_perf.plot(kind='bar', figsize=(10,4), rot=30)"
   ]
  },
  {
   "cell_type": "markdown",
   "id": "57dc70a4",
   "metadata": {},
   "source": [
    "We can see that snacks are the most profitable category of products and also the best performing in terms of sales"
   ]
  },
  {
   "cell_type": "markdown",
   "id": "f8c1b2a7",
   "metadata": {},
   "source": [
    "##### Percentage of profit made from each category"
   ]
  },
  {
   "cell_type": "code",
   "execution_count": 146,
   "id": "97b67484",
   "metadata": {},
   "outputs": [
    {
     "data": {
      "image/png": "[encoded data removed]",
      "text/plain": [
       "<Figure size 432x432 with 1 Axes>"
      ]
     },
     "metadata": {},
     "output_type": "display_data"
    }
   ],
   "source": [
    "plt.figure(figsize=(6,6))\n",
    "plt.pie(prod_perf['profit'], labels=prod_perf.index, explode=(0.1,0.1,0.0,0,0.1,0.0,0.2),\n",
    "        wedgeprops={'linewidth': 1, 'edgecolor':'green'}, shadow=True, autopct= '%1.2f%%', startangle=90)\n",
    "plt.title('Pie chat showing percentage of profit made from each product category')\n",
    "plt.savefig('_pie')"
   ]
  },
  {
   "cell_type": "markdown",
   "id": "19beec59",
   "metadata": {},
   "source": [
    "The snacks category is the most profitable category of products sold by the store\n",
    "\n",
    "##### The  top 5 most profitable products?"
   ]
  },
  {
   "cell_type": "code",
   "execution_count": 147,
   "id": "eac229b9",
   "metadata": {},
   "outputs": [
    {
     "data": {
      "text/html": [
       "<div>\n",
       "<style scoped>\n",
       "    .dataframe tbody tr th:only-of-type {\n",
       "        vertical-align: middle;\n",
       "    }\n",
       "\n",
       "    .dataframe tbody tr th {\n",
       "        vertical-align: top;\n",
       "    }\n",
       "\n",
       "    .dataframe thead th {\n",
       "        text-align: right;\n",
       "    }\n",
       "</style>\n",
       "<table border=\"1\" class=\"dataframe\">\n",
       "  <thead>\n",
       "    <tr style=\"text-align: right;\">\n",
       "      <th></th>\n",
       "      <th>profit</th>\n",
       "    </tr>\n",
       "    <tr>\n",
       "      <th>sub_category</th>\n",
       "      <th></th>\n",
       "    </tr>\n",
       "  </thead>\n",
       "  <tbody>\n",
       "    <tr>\n",
       "      <th>Health Drinks</th>\n",
       "      <td>267469.79</td>\n",
       "    </tr>\n",
       "    <tr>\n",
       "      <th>Soft Drinks</th>\n",
       "      <td>258135.97</td>\n",
       "    </tr>\n",
       "    <tr>\n",
       "      <th>Noodles</th>\n",
       "      <td>193685.81</td>\n",
       "    </tr>\n",
       "    <tr>\n",
       "      <th>Breads &amp; Buns</th>\n",
       "      <td>190764.98</td>\n",
       "    </tr>\n",
       "    <tr>\n",
       "      <th>Cookies</th>\n",
       "      <td>190643.70</td>\n",
       "    </tr>\n",
       "  </tbody>\n",
       "</table>\n",
       "</div>"
      ],
      "text/plain": [
       "                  profit\n",
       "sub_category            \n",
       "Health Drinks  267469.79\n",
       "Soft Drinks    258135.97\n",
       "Noodles        193685.81\n",
       "Breads & Buns  190764.98\n",
       "Cookies        190643.70"
      ]
     },
     "execution_count": 147,
     "metadata": {},
     "output_type": "execute_result"
    }
   ],
   "source": [
    "scat_pro=supermart[['sub_category','profit']].groupby('sub_category').sum().sort_values('profit',ascending=False)\n",
    "scat_pro[:5]"
   ]
  },
  {
   "cell_type": "markdown",
   "id": "f2f0b811",
   "metadata": {},
   "source": [
    "The most profitable product is Health drinks\n",
    "\n",
    "We should also note that the top 2 most profitable products are beverages, despite beverages not being one of the most profitable categories. \n",
    "This might because beverages category has less sub categories."
   ]
  },
  {
   "cell_type": "markdown",
   "id": "a288b7fd",
   "metadata": {},
   "source": [
    "##### Which city was the higest number of snacks sold?\n"
   ]
  },
  {
   "cell_type": "code",
   "execution_count": 148,
   "id": "1a2a3be6",
   "metadata": {},
   "outputs": [
    {
     "data": {
      "text/html": [
       "<div>\n",
       "<style scoped>\n",
       "    .dataframe tbody tr th:only-of-type {\n",
       "        vertical-align: middle;\n",
       "    }\n",
       "\n",
       "    .dataframe tbody tr th {\n",
       "        vertical-align: top;\n",
       "    }\n",
       "\n",
       "    .dataframe thead th {\n",
       "        text-align: right;\n",
       "    }\n",
       "</style>\n",
       "<table border=\"1\" class=\"dataframe\">\n",
       "  <thead>\n",
       "    <tr style=\"text-align: right;\">\n",
       "      <th></th>\n",
       "      <th>order_id</th>\n",
       "    </tr>\n",
       "    <tr>\n",
       "      <th>city</th>\n",
       "      <th></th>\n",
       "    </tr>\n",
       "  </thead>\n",
       "  <tbody>\n",
       "    <tr>\n",
       "      <th>Kanyakumari</th>\n",
       "      <td>75</td>\n",
       "    </tr>\n",
       "    <tr>\n",
       "      <th>Virudhunagar</th>\n",
       "      <td>74</td>\n",
       "    </tr>\n",
       "    <tr>\n",
       "      <th>Tirunelveli</th>\n",
       "      <td>72</td>\n",
       "    </tr>\n",
       "    <tr>\n",
       "      <th>Perambalur</th>\n",
       "      <td>71</td>\n",
       "    </tr>\n",
       "    <tr>\n",
       "      <th>Chennai</th>\n",
       "      <td>68</td>\n",
       "    </tr>\n",
       "  </tbody>\n",
       "</table>\n",
       "</div>"
      ],
      "text/plain": [
       "              order_id\n",
       "city                  \n",
       "Kanyakumari         75\n",
       "Virudhunagar        74\n",
       "Tirunelveli         72\n",
       "Perambalur          71\n",
       "Chennai             68"
      ]
     },
     "execution_count": 148,
     "metadata": {},
     "output_type": "execute_result"
    }
   ],
   "source": [
    "city_snack=supermart.loc[supermart['category']=='Snacks'].groupby('city').count()[['order_id']]\n",
    "city_snack.sort_values('order_id',ascending=False)[:5]"
   ]
  },
  {
   "cell_type": "markdown",
   "id": "5feb24f8",
   "metadata": {},
   "source": [
    "Most where the most snacks was sold is Kanyakumari where 22 snacks was sold"
   ]
  },
  {
   "cell_type": "markdown",
   "id": "6638bce9",
   "metadata": {},
   "source": [
    "##### The top most profitable cities?\n",
    "This shows the city where most profit was made"
   ]
  },
  {
   "cell_type": "code",
   "execution_count": 149,
   "id": "161fa4ec",
   "metadata": {},
   "outputs": [
    {
     "data": {
      "text/html": [
       "<div>\n",
       "<style scoped>\n",
       "    .dataframe tbody tr th:only-of-type {\n",
       "        vertical-align: middle;\n",
       "    }\n",
       "\n",
       "    .dataframe tbody tr th {\n",
       "        vertical-align: top;\n",
       "    }\n",
       "\n",
       "    .dataframe thead th {\n",
       "        text-align: right;\n",
       "    }\n",
       "</style>\n",
       "<table border=\"1\" class=\"dataframe\">\n",
       "  <thead>\n",
       "    <tr style=\"text-align: right;\">\n",
       "      <th></th>\n",
       "      <th>profit</th>\n",
       "    </tr>\n",
       "    <tr>\n",
       "      <th>city</th>\n",
       "      <th></th>\n",
       "    </tr>\n",
       "  </thead>\n",
       "  <tbody>\n",
       "    <tr>\n",
       "      <th>Vellore</th>\n",
       "      <td>173671.73</td>\n",
       "    </tr>\n",
       "    <tr>\n",
       "      <th>Bodi</th>\n",
       "      <td>173655.13</td>\n",
       "    </tr>\n",
       "    <tr>\n",
       "      <th>Kanyakumari</th>\n",
       "      <td>172217.74</td>\n",
       "    </tr>\n",
       "    <tr>\n",
       "      <th>Perambalur</th>\n",
       "      <td>171132.19</td>\n",
       "    </tr>\n",
       "    <tr>\n",
       "      <th>Karur</th>\n",
       "      <td>169305.94</td>\n",
       "    </tr>\n",
       "  </tbody>\n",
       "</table>\n",
       "</div>"
      ],
      "text/plain": [
       "                profit\n",
       "city                  \n",
       "Vellore      173671.73\n",
       "Bodi         173655.13\n",
       "Kanyakumari  172217.74\n",
       "Perambalur   171132.19\n",
       "Karur        169305.94"
      ]
     },
     "execution_count": 149,
     "metadata": {},
     "output_type": "execute_result"
    }
   ],
   "source": [
    "city_pro=supermart[['city','profit']].groupby(['city']).sum()\n",
    "city_pro.sort_values('profit',ascending=False)[:5]"
   ]
  },
  {
   "cell_type": "markdown",
   "id": "c1a44342",
   "metadata": {},
   "source": [
    "Vellore, Bodi and Kanyakumari are the top 3 most profitable cities"
   ]
  },
  {
   "cell_type": "markdown",
   "id": "f67668b4",
   "metadata": {},
   "source": [
    "##### Cities with the most sales?\n",
    "This displays the cities with the highest sales total"
   ]
  },
  {
   "cell_type": "code",
   "execution_count": 150,
   "id": "e89ffb9d",
   "metadata": {},
   "outputs": [
    {
     "data": {
      "text/html": [
       "<div>\n",
       "<style scoped>\n",
       "    .dataframe tbody tr th:only-of-type {\n",
       "        vertical-align: middle;\n",
       "    }\n",
       "\n",
       "    .dataframe tbody tr th {\n",
       "        vertical-align: top;\n",
       "    }\n",
       "\n",
       "    .dataframe thead th {\n",
       "        text-align: right;\n",
       "    }\n",
       "</style>\n",
       "<table border=\"1\" class=\"dataframe\">\n",
       "  <thead>\n",
       "    <tr style=\"text-align: right;\">\n",
       "      <th></th>\n",
       "      <th>sale_price</th>\n",
       "    </tr>\n",
       "    <tr>\n",
       "      <th>city</th>\n",
       "      <th></th>\n",
       "    </tr>\n",
       "  </thead>\n",
       "  <tbody>\n",
       "    <tr>\n",
       "      <th>Kanyakumari</th>\n",
       "      <td>706764</td>\n",
       "    </tr>\n",
       "    <tr>\n",
       "      <th>Vellore</th>\n",
       "      <td>675296</td>\n",
       "    </tr>\n",
       "    <tr>\n",
       "      <th>Bodi</th>\n",
       "      <td>667177</td>\n",
       "    </tr>\n",
       "    <tr>\n",
       "      <th>Tirunelveli</th>\n",
       "      <td>659812</td>\n",
       "    </tr>\n",
       "    <tr>\n",
       "      <th>Perambalur</th>\n",
       "      <td>659738</td>\n",
       "    </tr>\n",
       "  </tbody>\n",
       "</table>\n",
       "</div>"
      ],
      "text/plain": [
       "             sale_price\n",
       "city                   \n",
       "Kanyakumari      706764\n",
       "Vellore          675296\n",
       "Bodi             667177\n",
       "Tirunelveli      659812\n",
       "Perambalur       659738"
      ]
     },
     "execution_count": 150,
     "metadata": {},
     "output_type": "execute_result"
    }
   ],
   "source": [
    "city_sal=supermart[['city','sale_price']].groupby('city').sum()\n",
    "city_sal.sort_values('sale_price',ascending=False)[:5]"
   ]
  },
  {
   "cell_type": "markdown",
   "id": "a4abe8eb",
   "metadata": {},
   "source": [
    "##### How did the products perform in each region?\n",
    "This shows the regions arranged in the order of total sales and profit"
   ]
  },
  {
   "cell_type": "code",
   "execution_count": 151,
   "id": "43ddaa23",
   "metadata": {},
   "outputs": [
    {
     "data": {
      "text/html": [
       "<div>\n",
       "<style scoped>\n",
       "    .dataframe tbody tr th:only-of-type {\n",
       "        vertical-align: middle;\n",
       "    }\n",
       "\n",
       "    .dataframe tbody tr th {\n",
       "        vertical-align: top;\n",
       "    }\n",
       "\n",
       "    .dataframe thead th {\n",
       "        text-align: right;\n",
       "    }\n",
       "</style>\n",
       "<table border=\"1\" class=\"dataframe\">\n",
       "  <thead>\n",
       "    <tr style=\"text-align: right;\">\n",
       "      <th></th>\n",
       "      <th>sale_price</th>\n",
       "      <th>profit</th>\n",
       "    </tr>\n",
       "    <tr>\n",
       "      <th>region</th>\n",
       "      <th></th>\n",
       "      <th></th>\n",
       "    </tr>\n",
       "  </thead>\n",
       "  <tbody>\n",
       "    <tr>\n",
       "      <th>West</th>\n",
       "      <td>4798743</td>\n",
       "      <td>1192004.61</td>\n",
       "    </tr>\n",
       "    <tr>\n",
       "      <th>East</th>\n",
       "      <td>4248368</td>\n",
       "      <td>1074345.58</td>\n",
       "    </tr>\n",
       "    <tr>\n",
       "      <th>Central</th>\n",
       "      <td>3468156</td>\n",
       "      <td>856806.84</td>\n",
       "    </tr>\n",
       "    <tr>\n",
       "      <th>South</th>\n",
       "      <td>2440461</td>\n",
       "      <td>623562.89</td>\n",
       "    </tr>\n",
       "  </tbody>\n",
       "</table>\n",
       "</div>"
      ],
      "text/plain": [
       "         sale_price      profit\n",
       "region                         \n",
       "West        4798743  1192004.61\n",
       "East        4248368  1074345.58\n",
       "Central     3468156   856806.84\n",
       "South       2440461   623562.89"
      ]
     },
     "execution_count": 151,
     "metadata": {},
     "output_type": "execute_result"
    }
   ],
   "source": [
    "sales_by_region= supermart[['region','sale_price','profit']].groupby('region').sum()\n",
    "sales_by_region.sort_values('profit', ascending=False)"
   ]
  },
  {
   "cell_type": "markdown",
   "id": "32427559",
   "metadata": {},
   "source": [
    "I used a bar chat to display the number of each category of product sold by region"
   ]
  },
  {
   "cell_type": "code",
   "execution_count": 152,
   "id": "affb0327",
   "metadata": {},
   "outputs": [
    {
     "data": {
      "text/plain": [
       "Text(0.5, 1.0, 'Products Category sales by region')"
      ]
     },
     "execution_count": 152,
     "metadata": {},
     "output_type": "execute_result"
    },
    {
     "data": {
      "image/png": "[encoded data removed]",
      "text/plain": [
       "<Figure size 864x360 with 1 Axes>"
      ]
     },
     "metadata": {
      "needs_background": "light"
     },
     "output_type": "display_data"
    }
   ],
   "source": [
    "plt.figure(figsize=(12,5))\n",
    "sns.countplot(data=supermart, x='region', hue=supermart['category'])\n",
    "plt.title('Products Category sales by region')"
   ]
  },
  {
   "cell_type": "markdown",
   "id": "1c9b060a",
   "metadata": {},
   "source": [
    "From the bar chat, we can see that the West region is the best performing region as it has the higest number of products sold for all categories. One the other hand, the South region is not performing very well.\n",
    "\n",
    "Eggs, Meat & Fish are the most sold category of product in the West and East while Snacks has the most sales in the Central and South region.\n",
    "\n",
    "In terms of sales, Oil & Masala is the least performing category of products\n",
    "\n",
    "The company can do better in the south region."
   ]
  },
  {
   "cell_type": "markdown",
   "id": "47114922",
   "metadata": {},
   "source": [
    "##### Sales from each region by category\n",
    "I created a pivot table to present the sales from each region by category of product"
   ]
  },
  {
   "cell_type": "code",
   "execution_count": 153,
   "id": "14889c1a",
   "metadata": {},
   "outputs": [
    {
     "data": {
      "text/html": [
       "<div>\n",
       "<style scoped>\n",
       "    .dataframe tbody tr th:only-of-type {\n",
       "        vertical-align: middle;\n",
       "    }\n",
       "\n",
       "    .dataframe tbody tr th {\n",
       "        vertical-align: top;\n",
       "    }\n",
       "\n",
       "    .dataframe thead th {\n",
       "        text-align: right;\n",
       "    }\n",
       "</style>\n",
       "<table border=\"1\" class=\"dataframe\">\n",
       "  <thead>\n",
       "    <tr style=\"text-align: right;\">\n",
       "      <th>region</th>\n",
       "      <th>Central</th>\n",
       "      <th>East</th>\n",
       "      <th>South</th>\n",
       "      <th>West</th>\n",
       "    </tr>\n",
       "    <tr>\n",
       "      <th>category</th>\n",
       "      <th></th>\n",
       "      <th></th>\n",
       "      <th></th>\n",
       "      <th></th>\n",
       "    </tr>\n",
       "  </thead>\n",
       "  <tbody>\n",
       "    <tr>\n",
       "      <th>Bakery</th>\n",
       "      <td>448343</td>\n",
       "      <td>588241</td>\n",
       "      <td>361385</td>\n",
       "      <td>714312</td>\n",
       "    </tr>\n",
       "    <tr>\n",
       "      <th>Beverages</th>\n",
       "      <td>501194</td>\n",
       "      <td>577206</td>\n",
       "      <td>344666</td>\n",
       "      <td>662247</td>\n",
       "    </tr>\n",
       "    <tr>\n",
       "      <th>Eggs, Meat &amp; Fish</th>\n",
       "      <td>516642</td>\n",
       "      <td>677830</td>\n",
       "      <td>360963</td>\n",
       "      <td>711966</td>\n",
       "    </tr>\n",
       "    <tr>\n",
       "      <th>Food Grains</th>\n",
       "      <td>463683</td>\n",
       "      <td>598868</td>\n",
       "      <td>353069</td>\n",
       "      <td>699652</td>\n",
       "    </tr>\n",
       "    <tr>\n",
       "      <th>Fruits &amp; Veggies</th>\n",
       "      <td>526507</td>\n",
       "      <td>564237</td>\n",
       "      <td>352162</td>\n",
       "      <td>657821</td>\n",
       "    </tr>\n",
       "    <tr>\n",
       "      <th>Oil &amp; Masala</th>\n",
       "      <td>453293</td>\n",
       "      <td>622071</td>\n",
       "      <td>298859</td>\n",
       "      <td>662965</td>\n",
       "    </tr>\n",
       "    <tr>\n",
       "      <th>Snacks</th>\n",
       "      <td>558494</td>\n",
       "      <td>619915</td>\n",
       "      <td>369357</td>\n",
       "      <td>689780</td>\n",
       "    </tr>\n",
       "  </tbody>\n",
       "</table>\n",
       "</div>"
      ],
      "text/plain": [
       "region             Central    East   South    West\n",
       "category                                          \n",
       "Bakery              448343  588241  361385  714312\n",
       "Beverages           501194  577206  344666  662247\n",
       "Eggs, Meat & Fish   516642  677830  360963  711966\n",
       "Food Grains         463683  598868  353069  699652\n",
       "Fruits & Veggies    526507  564237  352162  657821\n",
       "Oil & Masala        453293  622071  298859  662965\n",
       "Snacks              558494  619915  369357  689780"
      ]
     },
     "execution_count": 153,
     "metadata": {},
     "output_type": "execute_result"
    }
   ],
   "source": [
    "region_sales_cat= supermart[['region','category','sale_price']].pivot_table(index = \"category\",\\\n",
    "        columns =\"region\", values =\"sale_price\", aggfunc= \"sum\")\n",
    "region_sales_cat"
   ]
  },
  {
   "cell_type": "markdown",
   "id": "2cd31b86",
   "metadata": {},
   "source": [
    "##### Which of Eggs, Meat & Fish is has the most sale in the West region?\n",
    "This shows the product from the Eggs,Meat&Fish category that has the highest sale in the west region\n"
   ]
  },
  {
   "cell_type": "code",
   "execution_count": 154,
   "id": "12babd8b",
   "metadata": {},
   "outputs": [
    {
     "data": {
      "text/html": [
       "<div>\n",
       "<style scoped>\n",
       "    .dataframe tbody tr th:only-of-type {\n",
       "        vertical-align: middle;\n",
       "    }\n",
       "\n",
       "    .dataframe tbody tr th {\n",
       "        vertical-align: top;\n",
       "    }\n",
       "\n",
       "    .dataframe thead th {\n",
       "        text-align: right;\n",
       "    }\n",
       "</style>\n",
       "<table border=\"1\" class=\"dataframe\">\n",
       "  <thead>\n",
       "    <tr style=\"text-align: right;\">\n",
       "      <th></th>\n",
       "      <th>sale_price</th>\n",
       "    </tr>\n",
       "    <tr>\n",
       "      <th>sub_category</th>\n",
       "      <th></th>\n",
       "    </tr>\n",
       "  </thead>\n",
       "  <tbody>\n",
       "    <tr>\n",
       "      <th>Mutton</th>\n",
       "      <td>203110</td>\n",
       "    </tr>\n",
       "    <tr>\n",
       "      <th>Eggs</th>\n",
       "      <td>180924</td>\n",
       "    </tr>\n",
       "    <tr>\n",
       "      <th>Fish</th>\n",
       "      <td>171503</td>\n",
       "    </tr>\n",
       "    <tr>\n",
       "      <th>Chicken</th>\n",
       "      <td>156429</td>\n",
       "    </tr>\n",
       "  </tbody>\n",
       "</table>\n",
       "</div>"
      ],
      "text/plain": [
       "              sale_price\n",
       "sub_category            \n",
       "Mutton            203110\n",
       "Eggs              180924\n",
       "Fish              171503\n",
       "Chicken           156429"
      ]
     },
     "execution_count": 154,
     "metadata": {},
     "output_type": "execute_result"
    }
   ],
   "source": [
    "EMFs=supermart.groupby('category').get_group('Eggs, Meat & Fish')\n",
    "west_EMFs= EMFs.loc[supermart['region']=='West'].groupby('sub_category').sum()[['sale_price']]\n",
    "west_EMFs.sort_values('sale_price', ascending=False)"
   ]
  },
  {
   "cell_type": "markdown",
   "id": "2b4fb770",
   "metadata": {},
   "source": [
    "Mutton is the product from Egg, Meat & Fish category with the highest sales"
   ]
  },
  {
   "cell_type": "markdown",
   "id": "8b62a0ef",
   "metadata": {},
   "source": [
    "##### Which snacks are the most profitable in 2018\n",
    "This shows the most profitable product from the snacks category in 2018"
   ]
  },
  {
   "cell_type": "code",
   "execution_count": 155,
   "id": "9146ae8c",
   "metadata": {},
   "outputs": [
    {
     "data": {
      "text/html": [
       "<div>\n",
       "<style scoped>\n",
       "    .dataframe tbody tr th:only-of-type {\n",
       "        vertical-align: middle;\n",
       "    }\n",
       "\n",
       "    .dataframe tbody tr th {\n",
       "        vertical-align: top;\n",
       "    }\n",
       "\n",
       "    .dataframe thead th {\n",
       "        text-align: right;\n",
       "    }\n",
       "</style>\n",
       "<table border=\"1\" class=\"dataframe\">\n",
       "  <thead>\n",
       "    <tr style=\"text-align: right;\">\n",
       "      <th></th>\n",
       "      <th>profit</th>\n",
       "    </tr>\n",
       "    <tr>\n",
       "      <th>sub_category</th>\n",
       "      <th></th>\n",
       "    </tr>\n",
       "  </thead>\n",
       "  <tbody>\n",
       "    <tr>\n",
       "      <th>Chocolates</th>\n",
       "      <td>65523.10</td>\n",
       "    </tr>\n",
       "    <tr>\n",
       "      <th>Cookies</th>\n",
       "      <td>64955.38</td>\n",
       "    </tr>\n",
       "    <tr>\n",
       "      <th>Noodles</th>\n",
       "      <td>65548.02</td>\n",
       "    </tr>\n",
       "  </tbody>\n",
       "</table>\n",
       "</div>"
      ],
      "text/plain": [
       "                profit\n",
       "sub_category          \n",
       "Chocolates    65523.10\n",
       "Cookies       64955.38\n",
       "Noodles       65548.02"
      ]
     },
     "execution_count": 155,
     "metadata": {},
     "output_type": "execute_result"
    }
   ],
   "source": [
    "mart_18=supermart.loc[supermart['year']==2018]\n",
    "snack_pro= mart_18.loc[supermart['category']=='Snacks'].groupby('sub_category')[['profit']].sum()\n",
    "snack_pro"
   ]
  },
  {
   "cell_type": "markdown",
   "id": "20da39cf",
   "metadata": {},
   "source": [
    "Chocolates are the most profitable snacks in 2018"
   ]
  },
  {
   "cell_type": "markdown",
   "id": "e7b80648",
   "metadata": {},
   "source": [
    "##### Product count by city?\n",
    "This shows the number of product sold per category in each state"
   ]
  },
  {
   "cell_type": "code",
   "execution_count": 156,
   "id": "ee508988",
   "metadata": {},
   "outputs": [
    {
     "data": {
      "text/html": [
       "<div>\n",
       "<style scoped>\n",
       "    .dataframe tbody tr th:only-of-type {\n",
       "        vertical-align: middle;\n",
       "    }\n",
       "\n",
       "    .dataframe tbody tr th {\n",
       "        vertical-align: top;\n",
       "    }\n",
       "\n",
       "    .dataframe thead th {\n",
       "        text-align: right;\n",
       "    }\n",
       "</style>\n",
       "<table border=\"1\" class=\"dataframe\">\n",
       "  <thead>\n",
       "    <tr style=\"text-align: right;\">\n",
       "      <th>category</th>\n",
       "      <th>Bakery</th>\n",
       "      <th>Beverages</th>\n",
       "      <th>Eggs, Meat &amp; Fish</th>\n",
       "      <th>Food Grains</th>\n",
       "      <th>Fruits &amp; Veggies</th>\n",
       "      <th>Oil &amp; Masala</th>\n",
       "      <th>Snacks</th>\n",
       "    </tr>\n",
       "    <tr>\n",
       "      <th>city</th>\n",
       "      <th></th>\n",
       "      <th></th>\n",
       "      <th></th>\n",
       "      <th></th>\n",
       "      <th></th>\n",
       "      <th></th>\n",
       "      <th></th>\n",
       "    </tr>\n",
       "  </thead>\n",
       "  <tbody>\n",
       "    <tr>\n",
       "      <th>Bodi</th>\n",
       "      <td>62</td>\n",
       "      <td>62</td>\n",
       "      <td>63</td>\n",
       "      <td>66</td>\n",
       "      <td>76</td>\n",
       "      <td>55</td>\n",
       "      <td>58</td>\n",
       "    </tr>\n",
       "    <tr>\n",
       "      <th>Chennai</th>\n",
       "      <td>51</td>\n",
       "      <td>68</td>\n",
       "      <td>67</td>\n",
       "      <td>57</td>\n",
       "      <td>58</td>\n",
       "      <td>63</td>\n",
       "      <td>68</td>\n",
       "    </tr>\n",
       "    <tr>\n",
       "      <th>Coimbatore</th>\n",
       "      <td>66</td>\n",
       "      <td>61</td>\n",
       "      <td>68</td>\n",
       "      <td>46</td>\n",
       "      <td>72</td>\n",
       "      <td>57</td>\n",
       "      <td>58</td>\n",
       "    </tr>\n",
       "    <tr>\n",
       "      <th>Cumbum</th>\n",
       "      <td>57</td>\n",
       "      <td>57</td>\n",
       "      <td>71</td>\n",
       "      <td>57</td>\n",
       "      <td>51</td>\n",
       "      <td>60</td>\n",
       "      <td>64</td>\n",
       "    </tr>\n",
       "    <tr>\n",
       "      <th>Dharmapuri</th>\n",
       "      <td>57</td>\n",
       "      <td>44</td>\n",
       "      <td>55</td>\n",
       "      <td>56</td>\n",
       "      <td>53</td>\n",
       "      <td>57</td>\n",
       "      <td>54</td>\n",
       "    </tr>\n",
       "    <tr>\n",
       "      <th>Dindigul</th>\n",
       "      <td>64</td>\n",
       "      <td>53</td>\n",
       "      <td>44</td>\n",
       "      <td>57</td>\n",
       "      <td>62</td>\n",
       "      <td>48</td>\n",
       "      <td>68</td>\n",
       "    </tr>\n",
       "    <tr>\n",
       "      <th>Kanyakumari</th>\n",
       "      <td>64</td>\n",
       "      <td>51</td>\n",
       "      <td>73</td>\n",
       "      <td>58</td>\n",
       "      <td>59</td>\n",
       "      <td>79</td>\n",
       "      <td>75</td>\n",
       "    </tr>\n",
       "    <tr>\n",
       "      <th>Karur</th>\n",
       "      <td>63</td>\n",
       "      <td>51</td>\n",
       "      <td>76</td>\n",
       "      <td>64</td>\n",
       "      <td>65</td>\n",
       "      <td>52</td>\n",
       "      <td>59</td>\n",
       "    </tr>\n",
       "    <tr>\n",
       "      <th>Krishnagiri</th>\n",
       "      <td>70</td>\n",
       "      <td>53</td>\n",
       "      <td>71</td>\n",
       "      <td>63</td>\n",
       "      <td>58</td>\n",
       "      <td>61</td>\n",
       "      <td>64</td>\n",
       "    </tr>\n",
       "    <tr>\n",
       "      <th>Madurai</th>\n",
       "      <td>52</td>\n",
       "      <td>70</td>\n",
       "      <td>67</td>\n",
       "      <td>59</td>\n",
       "      <td>43</td>\n",
       "      <td>58</td>\n",
       "      <td>59</td>\n",
       "    </tr>\n",
       "    <tr>\n",
       "      <th>Nagercoil</th>\n",
       "      <td>59</td>\n",
       "      <td>48</td>\n",
       "      <td>48</td>\n",
       "      <td>46</td>\n",
       "      <td>69</td>\n",
       "      <td>49</td>\n",
       "      <td>54</td>\n",
       "    </tr>\n",
       "    <tr>\n",
       "      <th>Namakkal</th>\n",
       "      <td>62</td>\n",
       "      <td>55</td>\n",
       "      <td>58</td>\n",
       "      <td>60</td>\n",
       "      <td>58</td>\n",
       "      <td>48</td>\n",
       "      <td>62</td>\n",
       "    </tr>\n",
       "    <tr>\n",
       "      <th>Ooty</th>\n",
       "      <td>55</td>\n",
       "      <td>62</td>\n",
       "      <td>62</td>\n",
       "      <td>66</td>\n",
       "      <td>49</td>\n",
       "      <td>56</td>\n",
       "      <td>54</td>\n",
       "    </tr>\n",
       "    <tr>\n",
       "      <th>Perambalur</th>\n",
       "      <td>64</td>\n",
       "      <td>72</td>\n",
       "      <td>56</td>\n",
       "      <td>52</td>\n",
       "      <td>65</td>\n",
       "      <td>54</td>\n",
       "      <td>71</td>\n",
       "    </tr>\n",
       "    <tr>\n",
       "      <th>Pudukottai</th>\n",
       "      <td>59</td>\n",
       "      <td>58</td>\n",
       "      <td>53</td>\n",
       "      <td>60</td>\n",
       "      <td>69</td>\n",
       "      <td>68</td>\n",
       "      <td>63</td>\n",
       "    </tr>\n",
       "    <tr>\n",
       "      <th>Ramanadhapuram</th>\n",
       "      <td>63</td>\n",
       "      <td>63</td>\n",
       "      <td>69</td>\n",
       "      <td>58</td>\n",
       "      <td>52</td>\n",
       "      <td>53</td>\n",
       "      <td>63</td>\n",
       "    </tr>\n",
       "    <tr>\n",
       "      <th>Salem</th>\n",
       "      <td>69</td>\n",
       "      <td>60</td>\n",
       "      <td>69</td>\n",
       "      <td>53</td>\n",
       "      <td>48</td>\n",
       "      <td>67</td>\n",
       "      <td>65</td>\n",
       "    </tr>\n",
       "    <tr>\n",
       "      <th>Tenkasi</th>\n",
       "      <td>64</td>\n",
       "      <td>62</td>\n",
       "      <td>65</td>\n",
       "      <td>61</td>\n",
       "      <td>58</td>\n",
       "      <td>54</td>\n",
       "      <td>68</td>\n",
       "    </tr>\n",
       "    <tr>\n",
       "      <th>Theni</th>\n",
       "      <td>46</td>\n",
       "      <td>53</td>\n",
       "      <td>61</td>\n",
       "      <td>64</td>\n",
       "      <td>52</td>\n",
       "      <td>53</td>\n",
       "      <td>58</td>\n",
       "    </tr>\n",
       "    <tr>\n",
       "      <th>Tirunelveli</th>\n",
       "      <td>57</td>\n",
       "      <td>71</td>\n",
       "      <td>66</td>\n",
       "      <td>55</td>\n",
       "      <td>70</td>\n",
       "      <td>55</td>\n",
       "      <td>72</td>\n",
       "    </tr>\n",
       "    <tr>\n",
       "      <th>Trichy</th>\n",
       "      <td>45</td>\n",
       "      <td>54</td>\n",
       "      <td>59</td>\n",
       "      <td>53</td>\n",
       "      <td>53</td>\n",
       "      <td>42</td>\n",
       "      <td>51</td>\n",
       "    </tr>\n",
       "    <tr>\n",
       "      <th>Vellore</th>\n",
       "      <td>59</td>\n",
       "      <td>64</td>\n",
       "      <td>66</td>\n",
       "      <td>63</td>\n",
       "      <td>56</td>\n",
       "      <td>59</td>\n",
       "      <td>67</td>\n",
       "    </tr>\n",
       "    <tr>\n",
       "      <th>Viluppuram</th>\n",
       "      <td>56</td>\n",
       "      <td>64</td>\n",
       "      <td>45</td>\n",
       "      <td>62</td>\n",
       "      <td>51</td>\n",
       "      <td>54</td>\n",
       "      <td>65</td>\n",
       "    </tr>\n",
       "    <tr>\n",
       "      <th>Virudhunagar</th>\n",
       "      <td>49</td>\n",
       "      <td>44</td>\n",
       "      <td>58</td>\n",
       "      <td>62</td>\n",
       "      <td>71</td>\n",
       "      <td>58</td>\n",
       "      <td>74</td>\n",
       "    </tr>\n",
       "  </tbody>\n",
       "</table>\n",
       "</div>"
      ],
      "text/plain": [
       "category        Bakery  Beverages  Eggs, Meat & Fish  Food Grains  \\\n",
       "city                                                                \n",
       "Bodi                62         62                 63           66   \n",
       "Chennai             51         68                 67           57   \n",
       "Coimbatore          66         61                 68           46   \n",
       "Cumbum              57         57                 71           57   \n",
       "Dharmapuri          57         44                 55           56   \n",
       "Dindigul            64         53                 44           57   \n",
       "Kanyakumari         64         51                 73           58   \n",
       "Karur               63         51                 76           64   \n",
       "Krishnagiri         70         53                 71           63   \n",
       "Madurai             52         70                 67           59   \n",
       "Nagercoil           59         48                 48           46   \n",
       "Namakkal            62         55                 58           60   \n",
       "Ooty                55         62                 62           66   \n",
       "Perambalur          64         72                 56           52   \n",
       "Pudukottai          59         58                 53           60   \n",
       "Ramanadhapuram      63         63                 69           58   \n",
       "Salem               69         60                 69           53   \n",
       "Tenkasi             64         62                 65           61   \n",
       "Theni               46         53                 61           64   \n",
       "Tirunelveli         57         71                 66           55   \n",
       "Trichy              45         54                 59           53   \n",
       "Vellore             59         64                 66           63   \n",
       "Viluppuram          56         64                 45           62   \n",
       "Virudhunagar        49         44                 58           62   \n",
       "\n",
       "category        Fruits & Veggies  Oil & Masala  Snacks  \n",
       "city                                                    \n",
       "Bodi                          76            55      58  \n",
       "Chennai                       58            63      68  \n",
       "Coimbatore                    72            57      58  \n",
       "Cumbum                        51            60      64  \n",
       "Dharmapuri                    53            57      54  \n",
       "Dindigul                      62            48      68  \n",
       "Kanyakumari                   59            79      75  \n",
       "Karur                         65            52      59  \n",
       "Krishnagiri                   58            61      64  \n",
       "Madurai                       43            58      59  \n",
       "Nagercoil                     69            49      54  \n",
       "Namakkal                      58            48      62  \n",
       "Ooty                          49            56      54  \n",
       "Perambalur                    65            54      71  \n",
       "Pudukottai                    69            68      63  \n",
       "Ramanadhapuram                52            53      63  \n",
       "Salem                         48            67      65  \n",
       "Tenkasi                       58            54      68  \n",
       "Theni                         52            53      58  \n",
       "Tirunelveli                   70            55      72  \n",
       "Trichy                        53            42      51  \n",
       "Vellore                       56            59      67  \n",
       "Viluppuram                    51            54      65  \n",
       "Virudhunagar                  71            58      74  "
      ]
     },
     "execution_count": 156,
     "metadata": {},
     "output_type": "execute_result"
    }
   ],
   "source": [
    "prod_count_by_city= supermart[['city','category','order_id']].pivot_table(index = \"city\",\n",
    "        columns =\"category\", values =\"order_id\", aggfunc= \"count\")\n",
    "prod_count_by_city"
   ]
  },
  {
   "cell_type": "markdown",
   "id": "1fa350cc",
   "metadata": {},
   "source": [
    "##### Number of customers that visited each city?\n",
    "This shows the number of Transactions in each city"
   ]
  },
  {
   "cell_type": "code",
   "execution_count": 157,
   "id": "4b11c479",
   "metadata": {},
   "outputs": [
    {
     "data": {
      "text/html": [
       "<div>\n",
       "<style scoped>\n",
       "    .dataframe tbody tr th:only-of-type {\n",
       "        vertical-align: middle;\n",
       "    }\n",
       "\n",
       "    .dataframe tbody tr th {\n",
       "        vertical-align: top;\n",
       "    }\n",
       "\n",
       "    .dataframe thead th {\n",
       "        text-align: right;\n",
       "    }\n",
       "</style>\n",
       "<table border=\"1\" class=\"dataframe\">\n",
       "  <thead>\n",
       "    <tr style=\"text-align: right;\">\n",
       "      <th></th>\n",
       "      <th>order_id</th>\n",
       "    </tr>\n",
       "    <tr>\n",
       "      <th>city</th>\n",
       "      <th></th>\n",
       "    </tr>\n",
       "  </thead>\n",
       "  <tbody>\n",
       "    <tr>\n",
       "      <th>Kanyakumari</th>\n",
       "      <td>459</td>\n",
       "    </tr>\n",
       "    <tr>\n",
       "      <th>Tirunelveli</th>\n",
       "      <td>446</td>\n",
       "    </tr>\n",
       "    <tr>\n",
       "      <th>Bodi</th>\n",
       "      <td>442</td>\n",
       "    </tr>\n",
       "    <tr>\n",
       "      <th>Krishnagiri</th>\n",
       "      <td>440</td>\n",
       "    </tr>\n",
       "    <tr>\n",
       "      <th>Vellore</th>\n",
       "      <td>434</td>\n",
       "    </tr>\n",
       "    <tr>\n",
       "      <th>Perambalur</th>\n",
       "      <td>434</td>\n",
       "    </tr>\n",
       "    <tr>\n",
       "      <th>Tenkasi</th>\n",
       "      <td>432</td>\n",
       "    </tr>\n",
       "    <tr>\n",
       "      <th>Chennai</th>\n",
       "      <td>432</td>\n",
       "    </tr>\n",
       "    <tr>\n",
       "      <th>Salem</th>\n",
       "      <td>431</td>\n",
       "    </tr>\n",
       "    <tr>\n",
       "      <th>Pudukottai</th>\n",
       "      <td>430</td>\n",
       "    </tr>\n",
       "    <tr>\n",
       "      <th>Karur</th>\n",
       "      <td>430</td>\n",
       "    </tr>\n",
       "    <tr>\n",
       "      <th>Coimbatore</th>\n",
       "      <td>428</td>\n",
       "    </tr>\n",
       "    <tr>\n",
       "      <th>Ramanadhapuram</th>\n",
       "      <td>421</td>\n",
       "    </tr>\n",
       "    <tr>\n",
       "      <th>Cumbum</th>\n",
       "      <td>417</td>\n",
       "    </tr>\n",
       "    <tr>\n",
       "      <th>Virudhunagar</th>\n",
       "      <td>416</td>\n",
       "    </tr>\n",
       "    <tr>\n",
       "      <th>Madurai</th>\n",
       "      <td>408</td>\n",
       "    </tr>\n",
       "    <tr>\n",
       "      <th>Ooty</th>\n",
       "      <td>404</td>\n",
       "    </tr>\n",
       "    <tr>\n",
       "      <th>Namakkal</th>\n",
       "      <td>403</td>\n",
       "    </tr>\n",
       "    <tr>\n",
       "      <th>Viluppuram</th>\n",
       "      <td>397</td>\n",
       "    </tr>\n",
       "    <tr>\n",
       "      <th>Dindigul</th>\n",
       "      <td>396</td>\n",
       "    </tr>\n",
       "    <tr>\n",
       "      <th>Theni</th>\n",
       "      <td>387</td>\n",
       "    </tr>\n",
       "    <tr>\n",
       "      <th>Dharmapuri</th>\n",
       "      <td>376</td>\n",
       "    </tr>\n",
       "    <tr>\n",
       "      <th>Nagercoil</th>\n",
       "      <td>373</td>\n",
       "    </tr>\n",
       "    <tr>\n",
       "      <th>Trichy</th>\n",
       "      <td>357</td>\n",
       "    </tr>\n",
       "  </tbody>\n",
       "</table>\n",
       "</div>"
      ],
      "text/plain": [
       "                order_id\n",
       "city                    \n",
       "Kanyakumari          459\n",
       "Tirunelveli          446\n",
       "Bodi                 442\n",
       "Krishnagiri          440\n",
       "Vellore              434\n",
       "Perambalur           434\n",
       "Tenkasi              432\n",
       "Chennai              432\n",
       "Salem                431\n",
       "Pudukottai           430\n",
       "Karur                430\n",
       "Coimbatore           428\n",
       "Ramanadhapuram       421\n",
       "Cumbum               417\n",
       "Virudhunagar         416\n",
       "Madurai              408\n",
       "Ooty                 404\n",
       "Namakkal             403\n",
       "Viluppuram           397\n",
       "Dindigul             396\n",
       "Theni                387\n",
       "Dharmapuri           376\n",
       "Nagercoil            373\n",
       "Trichy               357"
      ]
     },
     "execution_count": 157,
     "metadata": {},
     "output_type": "execute_result"
    }
   ],
   "source": [
    "Tr_per_city= supermart[['city','order_id']].groupby(['city']).count().sort_values('order_id',ascending=False)\n",
    "Tr_per_city"
   ]
  },
  {
   "cell_type": "markdown",
   "id": "986a5277",
   "metadata": {},
   "source": [
    "##### Which month does the business have the highest sales?\n",
    "This shows the highest total sales by months"
   ]
  },
  {
   "cell_type": "code",
   "execution_count": 158,
   "id": "325d6fac",
   "metadata": {},
   "outputs": [
    {
     "data": {
      "text/html": [
       "<div>\n",
       "<style scoped>\n",
       "    .dataframe tbody tr th:only-of-type {\n",
       "        vertical-align: middle;\n",
       "    }\n",
       "\n",
       "    .dataframe tbody tr th {\n",
       "        vertical-align: top;\n",
       "    }\n",
       "\n",
       "    .dataframe thead th {\n",
       "        text-align: right;\n",
       "    }\n",
       "</style>\n",
       "<table border=\"1\" class=\"dataframe\">\n",
       "  <thead>\n",
       "    <tr style=\"text-align: right;\">\n",
       "      <th></th>\n",
       "      <th></th>\n",
       "      <th>sale_price</th>\n",
       "    </tr>\n",
       "    <tr>\n",
       "      <th>month</th>\n",
       "      <th>month_name</th>\n",
       "      <th></th>\n",
       "    </tr>\n",
       "  </thead>\n",
       "  <tbody>\n",
       "    <tr>\n",
       "      <th>11</th>\n",
       "      <th>Nov</th>\n",
       "      <td>2192670</td>\n",
       "    </tr>\n",
       "    <tr>\n",
       "      <th>12</th>\n",
       "      <th>Dec</th>\n",
       "      <td>2088076</td>\n",
       "    </tr>\n",
       "    <tr>\n",
       "      <th>9</th>\n",
       "      <th>Sep</th>\n",
       "      <td>2064266</td>\n",
       "    </tr>\n",
       "    <tr>\n",
       "      <th>10</th>\n",
       "      <th>Oct</th>\n",
       "      <td>1243289</td>\n",
       "    </tr>\n",
       "    <tr>\n",
       "      <th>7</th>\n",
       "      <th>Jul</th>\n",
       "      <td>1089385</td>\n",
       "    </tr>\n",
       "    <tr>\n",
       "      <th>5</th>\n",
       "      <th>May</th>\n",
       "      <td>1086920</td>\n",
       "    </tr>\n",
       "    <tr>\n",
       "      <th>6</th>\n",
       "      <th>Jun</th>\n",
       "      <td>1057808</td>\n",
       "    </tr>\n",
       "    <tr>\n",
       "      <th>3</th>\n",
       "      <th>Mar</th>\n",
       "      <td>1053980</td>\n",
       "    </tr>\n",
       "    <tr>\n",
       "      <th>8</th>\n",
       "      <th>Aug</th>\n",
       "      <td>1046807</td>\n",
       "    </tr>\n",
       "    <tr>\n",
       "      <th>4</th>\n",
       "      <th>Apr</th>\n",
       "      <td>998453</td>\n",
       "    </tr>\n",
       "    <tr>\n",
       "      <th>1</th>\n",
       "      <th>Jan</th>\n",
       "      <td>577972</td>\n",
       "    </tr>\n",
       "    <tr>\n",
       "      <th>2</th>\n",
       "      <th>Feb</th>\n",
       "      <td>456102</td>\n",
       "    </tr>\n",
       "  </tbody>\n",
       "</table>\n",
       "</div>"
      ],
      "text/plain": [
       "                  sale_price\n",
       "month month_name            \n",
       "11    Nov            2192670\n",
       "12    Dec            2088076\n",
       "9     Sep            2064266\n",
       "10    Oct            1243289\n",
       "7     Jul            1089385\n",
       "5     May            1086920\n",
       "6     Jun            1057808\n",
       "3     Mar            1053980\n",
       "8     Aug            1046807\n",
       "4     Apr             998453\n",
       "1     Jan             577972\n",
       "2     Feb             456102"
      ]
     },
     "execution_count": 158,
     "metadata": {},
     "output_type": "execute_result"
    }
   ],
   "source": [
    "Month_sales=supermart[['month','month_name','sale_price']].groupby(['month','month_name']).sum()\n",
    "Month_sales.sort_values('sale_price', ascending=False)"
   ]
  },
  {
   "cell_type": "code",
   "execution_count": 159,
   "id": "10b58cf0",
   "metadata": {},
   "outputs": [
    {
     "data": {
      "image/png": "[encoded data removed]",
      "text/plain": [
       "<Figure size 1080x432 with 1 Axes>"
      ]
     },
     "metadata": {
      "needs_background": "light"
     },
     "output_type": "display_data"
    }
   ],
   "source": [
    "Month_sales.plot( kind = 'line',figsize = (15, 6), color =\"blue\", marker ='p',markersize = 10,markerfacecolor='red',\n",
    "    linewidth =3, ylabel = \"Sales in millions\", title = \"Sales Performance by Months\");"
   ]
  },
  {
   "cell_type": "markdown",
   "id": "703c38e4",
   "metadata": {},
   "source": [
    "The business has it's highest sales in November.\n",
    "\n",
    "From the line graph we can see that the sales are lower at the begining of the year and higher towards the end of the year"
   ]
  },
  {
   "cell_type": "markdown",
   "id": "d9ac9463",
   "metadata": {},
   "source": [
    "##### Which year was the highest profit made?\n",
    "This shows the sum of profit made in each year"
   ]
  },
  {
   "cell_type": "code",
   "execution_count": 160,
   "id": "44bc1b5a",
   "metadata": {},
   "outputs": [
    {
     "data": {
      "text/html": [
       "<div>\n",
       "<style scoped>\n",
       "    .dataframe tbody tr th:only-of-type {\n",
       "        vertical-align: middle;\n",
       "    }\n",
       "\n",
       "    .dataframe tbody tr th {\n",
       "        vertical-align: top;\n",
       "    }\n",
       "\n",
       "    .dataframe thead th {\n",
       "        text-align: right;\n",
       "    }\n",
       "</style>\n",
       "<table border=\"1\" class=\"dataframe\">\n",
       "  <thead>\n",
       "    <tr style=\"text-align: right;\">\n",
       "      <th></th>\n",
       "      <th>profit</th>\n",
       "    </tr>\n",
       "    <tr>\n",
       "      <th>year</th>\n",
       "      <th></th>\n",
       "    </tr>\n",
       "  </thead>\n",
       "  <tbody>\n",
       "    <tr>\n",
       "      <th>2018</th>\n",
       "      <td>1244182.88</td>\n",
       "    </tr>\n",
       "    <tr>\n",
       "      <th>2017</th>\n",
       "      <td>952814.94</td>\n",
       "    </tr>\n",
       "    <tr>\n",
       "      <th>2016</th>\n",
       "      <td>797192.99</td>\n",
       "    </tr>\n",
       "    <tr>\n",
       "      <th>2015</th>\n",
       "      <td>752529.11</td>\n",
       "    </tr>\n",
       "  </tbody>\n",
       "</table>\n",
       "</div>"
      ],
      "text/plain": [
       "          profit\n",
       "year            \n",
       "2018  1244182.88\n",
       "2017   952814.94\n",
       "2016   797192.99\n",
       "2015   752529.11"
      ]
     },
     "execution_count": 160,
     "metadata": {},
     "output_type": "execute_result"
    }
   ],
   "source": [
    "profit_by_year=supermart[['year','profit']].groupby('year').sum()\n",
    "profit_by_year.sort_values('year',ascending=False)"
   ]
  },
  {
   "cell_type": "code",
   "execution_count": 161,
   "id": "1652794e",
   "metadata": {},
   "outputs": [
    {
     "data": {
      "text/plain": [
       "<Figure size 432x288 with 0 Axes>"
      ]
     },
     "execution_count": 161,
     "metadata": {},
     "output_type": "execute_result"
    },
    {
     "data": {
      "image/png": "[encoded data removed]",
      "text/plain": [
       "<Figure size 864x432 with 1 Axes>"
      ]
     },
     "metadata": {
      "needs_background": "light"
     },
     "output_type": "display_data"
    },
    {
     "data": {
      "text/plain": [
       "<Figure size 432x288 with 0 Axes>"
      ]
     },
     "metadata": {},
     "output_type": "display_data"
    }
   ],
   "source": [
    "profit_by_year.plot(kind='bar',figsize=(12,6), rot=30, title='Profit by Year')\n",
    "plt.figure()"
   ]
  },
  {
   "cell_type": "markdown",
   "id": "844b5393",
   "metadata": {},
   "source": [
    "The bar chart shows that the company's profit keeps increasing every year (this is a good indication for the company)"
   ]
  },
  {
   "cell_type": "markdown",
   "id": "29973cd5",
   "metadata": {},
   "source": [
    "##### Average yearly Sales,Discount and Profit for each year?\n",
    "This shows the yearly averages of the business"
   ]
  },
  {
   "cell_type": "code",
   "execution_count": 162,
   "id": "c722094d",
   "metadata": {},
   "outputs": [
    {
     "data": {
      "text/html": [
       "<div>\n",
       "<style scoped>\n",
       "    .dataframe tbody tr th:only-of-type {\n",
       "        vertical-align: middle;\n",
       "    }\n",
       "\n",
       "    .dataframe tbody tr th {\n",
       "        vertical-align: top;\n",
       "    }\n",
       "\n",
       "    .dataframe thead th {\n",
       "        text-align: right;\n",
       "    }\n",
       "</style>\n",
       "<table border=\"1\" class=\"dataframe\">\n",
       "  <thead>\n",
       "    <tr style=\"text-align: right;\">\n",
       "      <th></th>\n",
       "      <th>sale_price</th>\n",
       "      <th>discount</th>\n",
       "      <th>profit</th>\n",
       "    </tr>\n",
       "    <tr>\n",
       "      <th>year</th>\n",
       "      <th></th>\n",
       "      <th></th>\n",
       "      <th></th>\n",
       "    </tr>\n",
       "  </thead>\n",
       "  <tbody>\n",
       "    <tr>\n",
       "      <th>2015</th>\n",
       "      <td>247966.58</td>\n",
       "      <td>38.01</td>\n",
       "      <td>62710.76</td>\n",
       "    </tr>\n",
       "    <tr>\n",
       "      <th>2016</th>\n",
       "      <td>260996.58</td>\n",
       "      <td>39.83</td>\n",
       "      <td>66432.75</td>\n",
       "    </tr>\n",
       "    <tr>\n",
       "      <th>2017</th>\n",
       "      <td>322554.83</td>\n",
       "      <td>49.01</td>\n",
       "      <td>79401.24</td>\n",
       "    </tr>\n",
       "    <tr>\n",
       "      <th>2018</th>\n",
       "      <td>414792.67</td>\n",
       "      <td>62.05</td>\n",
       "      <td>103681.91</td>\n",
       "    </tr>\n",
       "  </tbody>\n",
       "</table>\n",
       "</div>"
      ],
      "text/plain": [
       "      sale_price  discount     profit\n",
       "year                                 \n",
       "2015   247966.58     38.01   62710.76\n",
       "2016   260996.58     39.83   66432.75\n",
       "2017   322554.83     49.01   79401.24\n",
       "2018   414792.67     62.05  103681.91"
      ]
     },
     "execution_count": 162,
     "metadata": {},
     "output_type": "execute_result"
    }
   ],
   "source": [
    "Month_avgs= supermart[['year','sale_price','discount','profit']].groupby(['year']).sum()/supermart['month'].nunique()\n",
    "round(Month_avgs,2)"
   ]
  },
  {
   "cell_type": "code",
   "execution_count": 163,
   "id": "76ccb8d1",
   "metadata": {},
   "outputs": [
    {
     "data": {
      "text/plain": [
       "<Figure size 864x576 with 0 Axes>"
      ]
     },
     "metadata": {},
     "output_type": "display_data"
    },
    {
     "data": {
      "image/png": "[encoded data removed]",
      "text/plain": [
       "<Figure size 864x432 with 1 Axes>"
      ]
     },
     "metadata": {
      "needs_background": "light"
     },
     "output_type": "display_data"
    }
   ],
   "source": [
    "plt.figure(figsize = (12, 8))\n",
    "Month_avgs.plot( kind = 'bar',figsize=(12, 6),\n",
    "                ylabel = \"Amount\", title = \"Average Monthly Sales and Profit by year\", rot=30);"
   ]
  },
  {
   "cell_type": "code",
   "execution_count": 164,
   "id": "b1bde557",
   "metadata": {},
   "outputs": [
    {
     "data": {
      "text/plain": [
       "Text(0.5, 1.0, 'Pie chat showing percentage of sales from each Region')"
      ]
     },
     "execution_count": 164,
     "metadata": {},
     "output_type": "execute_result"
    },
    {
     "data": {
      "image/png": "[encoded data removed]",
      "text/plain": [
       "<Figure size 504x504 with 1 Axes>"
      ]
     },
     "metadata": {},
     "output_type": "display_data"
    }
   ],
   "source": [
    "plt.figure(figsize=(7,7))\n",
    "plt.pie(sales_by_region['sale_price'], labels=sales_by_region.index, explode=(0.1,0.1,0.3,0.2),\n",
    "        wedgeprops={'linewidth': 1, 'edgecolor':'green'}, shadow=True, autopct= '%1.1f%%', startangle=90)\n",
    "plt.legend()\n",
    "plt.title('Pie chat showing percentage of sales from each Region')"
   ]
  },
  {
   "cell_type": "code",
   "execution_count": 125,
   "id": "0633cda6",
   "metadata": {},
   "outputs": [
    {
     "data": {
      "text/html": [
       "<div>\n",
       "<style scoped>\n",
       "    .dataframe tbody tr th:only-of-type {\n",
       "        vertical-align: middle;\n",
       "    }\n",
       "\n",
       "    .dataframe tbody tr th {\n",
       "        vertical-align: top;\n",
       "    }\n",
       "\n",
       "    .dataframe thead th {\n",
       "        text-align: right;\n",
       "    }\n",
       "</style>\n",
       "<table border=\"1\" class=\"dataframe\">\n",
       "  <thead>\n",
       "    <tr style=\"text-align: right;\">\n",
       "      <th>region</th>\n",
       "      <th>Central</th>\n",
       "      <th>East</th>\n",
       "      <th>South</th>\n",
       "      <th>West</th>\n",
       "    </tr>\n",
       "    <tr>\n",
       "      <th>category</th>\n",
       "      <th></th>\n",
       "      <th></th>\n",
       "      <th></th>\n",
       "      <th></th>\n",
       "    </tr>\n",
       "  </thead>\n",
       "  <tbody>\n",
       "    <tr>\n",
       "      <th>Bakery</th>\n",
       "      <td>448343</td>\n",
       "      <td>588241</td>\n",
       "      <td>361385</td>\n",
       "      <td>714312</td>\n",
       "    </tr>\n",
       "    <tr>\n",
       "      <th>Beverages</th>\n",
       "      <td>501194</td>\n",
       "      <td>577206</td>\n",
       "      <td>344666</td>\n",
       "      <td>662247</td>\n",
       "    </tr>\n",
       "    <tr>\n",
       "      <th>Eggs, Meat &amp; Fish</th>\n",
       "      <td>516642</td>\n",
       "      <td>677830</td>\n",
       "      <td>360963</td>\n",
       "      <td>711966</td>\n",
       "    </tr>\n",
       "    <tr>\n",
       "      <th>Food Grains</th>\n",
       "      <td>463683</td>\n",
       "      <td>598868</td>\n",
       "      <td>353069</td>\n",
       "      <td>699652</td>\n",
       "    </tr>\n",
       "    <tr>\n",
       "      <th>Fruits &amp; Veggies</th>\n",
       "      <td>526507</td>\n",
       "      <td>564237</td>\n",
       "      <td>352162</td>\n",
       "      <td>657821</td>\n",
       "    </tr>\n",
       "    <tr>\n",
       "      <th>Oil &amp; Masala</th>\n",
       "      <td>453293</td>\n",
       "      <td>622071</td>\n",
       "      <td>298859</td>\n",
       "      <td>662965</td>\n",
       "    </tr>\n",
       "    <tr>\n",
       "      <th>Snacks</th>\n",
       "      <td>558494</td>\n",
       "      <td>619915</td>\n",
       "      <td>369357</td>\n",
       "      <td>689780</td>\n",
       "    </tr>\n",
       "  </tbody>\n",
       "</table>\n",
       "</div>"
      ],
      "text/plain": [
       "region             Central    East   South    West\n",
       "category                                          \n",
       "Bakery              448343  588241  361385  714312\n",
       "Beverages           501194  577206  344666  662247\n",
       "Eggs, Meat & Fish   516642  677830  360963  711966\n",
       "Food Grains         463683  598868  353069  699652\n",
       "Fruits & Veggies    526507  564237  352162  657821\n",
       "Oil & Masala        453293  622071  298859  662965\n",
       "Snacks              558494  619915  369357  689780"
      ]
     },
     "execution_count": 125,
     "metadata": {},
     "output_type": "execute_result"
    }
   ],
   "source": [
    "#sales from each region by category\n",
    "region_sales_cat= supermart[['region','category','sale_price']].pivot_table(index = \"category\",\n",
    "                        columns =\"region\", values =\"sale_price\", aggfunc= \"sum\")#.groupby(['Region','Category']).sum()#.sort_values('Sales',ascending=False)\n",
    "region_sales_cat"
   ]
  },
  {
   "cell_type": "markdown",
   "id": "526690dd",
   "metadata": {},
   "source": [
    "# SUMMARY\n",
    "The supermart is a growing and profitable business as the profit increase yearly from 2015 to 2018.\n",
    "\n",
    "The west region is the most active region where sales and profit is highest.\n",
    "\n",
    "All products are doing fairly well with Health drinks and Soft drinks leading the pack, Chicken and rice are the least profitable products.\n",
    "\n",
    "Snacks is the most profitable category of product and Oil & Masala are the least performing category.\n",
    "\n",
    "There is always an increase in sale in the last 3 months of the year, with November being the month with the highest sales."
   ]
  },
  {
   "cell_type": "markdown",
   "id": "9e5fd5b5",
   "metadata": {},
   "source": [
    "### To drop comments and follow for more:\n",
    "    \n",
    "GitHub: [https://Github.com/gbemeegar ](https://Github.com/gbemeegar)\n",
    "        \n",
    "LinkedIn: [https://Linkedin.com/in/gbemeegar ](https://LinkedIn.com/in/gbemeegar)\n",
    "    \n",
    "Twitter: [https://Twitter.com/datarevealer ](https://Twitter.com/DataRevealer)\n",
    "    \n",
    "WhatsApp No: +2348166339922"
   ]
  },
  {
   "cell_type": "code",
   "execution_count": null,
   "id": "d80d4792",
   "metadata": {},
   "outputs": [],
   "source": []
  }
 ],
 "metadata": {
  "kernelspec": {
   "display_name": "Python 3 (ipykernel)",
   "language": "python",
   "name": "python3"
  },
  "language_info": {
   "codemirror_mode": {
    "name": "ipython",
    "version": 3
   },
   "file_extension": ".py",
   "mimetype": "text/x-python",
   "name": "python",
   "nbconvert_exporter": "python",
   "pygments_lexer": "ipython3",
   "version": "3.9.7"
  }
 },
 "nbformat": 4,
 "nbformat_minor": 5
}
